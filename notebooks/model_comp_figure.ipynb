{
 "cells": [
  {
   "attachments": {},
   "cell_type": "markdown",
   "metadata": {},
   "source": [
    "# Draw model comparison figure"
   ]
  },
  {
   "cell_type": "code",
   "execution_count": 1,
   "metadata": {},
   "outputs": [],
   "source": [
    "import sys\n",
    "\n",
    "%load_ext autoreload\n",
    "%autoreload 2\n",
    "      \n",
    "sys.path.append('../')\n",
    "\n",
    "import torch\n",
    "from dataset import data_loaders, BrainSegmentationDataset\n",
    "from utils import postprocess_per_volume, dsc_distribution, plot_dsc, gray2rgb, outline\n",
    "from skimage.io import imsave, imshow\n",
    "import numpy as np\n",
    "from matplotlib import pyplot as plt\n",
    "\n",
    "from models.unet import UNet\n",
    "import cv2"
   ]
  },
  {
   "attachments": {},
   "cell_type": "markdown",
   "metadata": {},
   "source": [
    "## Add original images"
   ]
  },
  {
   "cell_type": "code",
   "execution_count": 4,
   "metadata": {},
   "outputs": [
    {
     "data": {
      "text/plain": [
       "True"
      ]
     },
     "execution_count": 4,
     "metadata": {},
     "output_type": "execute_result"
    }
   ],
   "source": [
    "image = cv2.imread('../images/TCGA_HT_7616_19940813_19.tif', cv2.IMREAD_UNCHANGED)\n",
    "\n",
    "# Save the image as PNG\n",
    "cv2.imwrite('../images/model_comp_TCGA_HT_7616_19940813_origin.png', image)\n",
    "\n",
    "image = cv2.imread('../images/TCGA_DU_7014_19860618_30.tif', cv2.IMREAD_UNCHANGED)\n",
    "\n",
    "# Save the image as PNG\n",
    "cv2.imwrite('../images/model_comp_TCGA_DU_7014_19860618_origin.png', image)\n",
    "\n"
   ]
  },
  {
   "attachments": {},
   "cell_type": "markdown",
   "metadata": {},
   "source": [
    "## Draw all the images in same figure"
   ]
  },
  {
   "cell_type": "code",
   "execution_count": null,
   "metadata": {},
   "outputs": [],
   "source": []
  }
 ],
 "metadata": {
  "kernelspec": {
   "display_name": "545proj",
   "language": "python",
   "name": "python3"
  },
  "language_info": {
   "codemirror_mode": {
    "name": "ipython",
    "version": 3
   },
   "file_extension": ".py",
   "mimetype": "text/x-python",
   "name": "python",
   "nbconvert_exporter": "python",
   "pygments_lexer": "ipython3",
   "version": "3.9.16"
  },
  "orig_nbformat": 4
 },
 "nbformat": 4,
 "nbformat_minor": 2
}
